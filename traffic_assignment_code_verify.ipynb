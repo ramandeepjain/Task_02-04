{
 "cells": [
  {
   "cell_type": "code",
   "execution_count": 1,
   "metadata": {},
   "outputs": [],
   "source": [
    "# libraries\n",
    "import pandas as pd\n",
    "import os\n",
    "import numpy as np\n",
    "import networkx as nx\n",
    "import matplotlib.pyplot as plt\n",
    "import math, time\n",
    "\n",
    "# local functions\n",
    "from utils import import_matrix"
   ]
  },
  {
   "cell_type": "markdown",
   "metadata": {},
   "source": [
    "## Loading data"
   ]
  },
  {
   "cell_type": "code",
   "execution_count": 2,
   "metadata": {},
   "outputs": [],
   "source": [
    "root    = './'\n",
    "city    = 'test_dataset'"
   ]
  },
  {
   "cell_type": "code",
   "execution_count": 3,
   "metadata": {},
   "outputs": [],
   "source": [
    "net_file = os.path.join(root, city, 'net.csv')\n",
    "network = pd.read_csv(net_file, sep=',')\n",
    "\n",
    "trimmed_cols = [s.strip().lower() for s in network.columns]\n",
    "network.columns = trimmed_cols"
   ]
  },
  {
   "cell_type": "code",
   "execution_count": 4,
   "metadata": {},
   "outputs": [],
   "source": [
    "edge_attr = {}\n",
    "for row in network.itertuples():\n",
    "    edge_attr[(row[1], row[2])] = {'capacity':row[3], 'length':row[4], 'FFT':row[5], 'alpha':row[6],\n",
    "                                    'beta':row[7], 'type':row[10], 'flow':0, 'cost':row[5], 'Oflow':None}\n",
    "    \n",
    "edge = [(row[1], row[2]) for row in network.itertuples()]"
   ]
  },
  {
   "cell_type": "code",
   "execution_count": 5,
   "metadata": {},
   "outputs": [],
   "source": [
    "network_graph = nx.DiGraph()\n",
    "network_graph.add_edges_from(edge)\n",
    "nx.set_edge_attributes(network_graph, edge_attr)"
   ]
  },
  {
   "cell_type": "code",
   "execution_count": 6,
   "metadata": {},
   "outputs": [],
   "source": [
    "origin_destination_raw = pd.read_csv(os.path.join(root, city, 'ODdemand.csv'), sep=',', header=0)\n",
    "\n",
    "origin_destination_demand = {(int(row['Origin']), int(row['Destination'])): int(row['Demand']) for index, row in origin_destination_raw.iterrows()}\n",
    "# origin_destination_demand"
   ]
  },
  {
   "cell_type": "code",
   "execution_count": 7,
   "metadata": {},
   "outputs": [],
   "source": [
    "centroid_data = pd.read_csv(os.path.join(root, city, 'centroid.csv'), sep=',')\n",
    "zones2centroid = centroid_data.groupby('fishnetID')['osmid'].apply(list).to_dict()\n",
    "# zones2centroid"
   ]
  },
  {
   "cell_type": "markdown",
   "metadata": {},
   "source": [
    "## All or nothing assignment"
   ]
  },
  {
   "cell_type": "code",
   "execution_count": 8,
   "metadata": {},
   "outputs": [],
   "source": [
    "def AONloading(graph, zone2centroid, demand, compute_sptt=True):\n",
    "    \"\"\"\n",
    "    All-or-Nothing (AON) traffic assignment with shortest path travel time (SPTT) computation.\n",
    "\n",
    "    Parameters:\n",
    "        graph (nx.DiGraph): A directed graph representing the road network, with 'cost' as the edge weight.\n",
    "        zone2centroid (dict): Maps zones to lists of centroid nodes within each zone.\n",
    "        demand (dict): OD demand values as a dictionary {(origin_zone, destination_zone): demand}.\n",
    "        compute_sptt (bool): Flag to compute SPTT and EODTT for OD pairs.\n",
    "\n",
    "    Returns:\n",
    "        tuple: \n",
    "            - SPTT (float): Total shortest path travel time across all OD pairs.\n",
    "            - x_bar (dict): Edge flow for each edge in the graph.\n",
    "            - spedges (dict): Shortest paths for each OD pair (optional, if `compute_sptt` is True).\n",
    "            - EODTT (dict): End-to-end travel times for OD pairs (optional, if `compute_sptt` is True).\n",
    "    \"\"\"\n",
    "    # Initialize outputs\n",
    "    x_bar = {edge: 0 for edge in graph.edges()}  # Edge flows\n",
    "    spedges = {}  # Shortest paths for OD pairs\n",
    "    EODTT = {}  # End-to-end travel times\n",
    "    SPTT = 0  # Shortest path travel time\n",
    "    \n",
    "    # Iterate through origin zones and their centroid nodes\n",
    "    for origin_zone, origin_nodes in zone2centroid.items():\n",
    "        # Compute shortest paths from all centroids in the origin zone\n",
    "        dijkstra_results = [\n",
    "            nx.single_source_dijkstra(graph, origin_node, weight=\"cost\") for origin_node in origin_nodes\n",
    "        ]\n",
    "        \n",
    "        # Iterate through destination zones and their centroid nodes\n",
    "        for destination_zone, destination_nodes in zone2centroid.items():\n",
    "            if origin_zone == destination_zone:\n",
    "                continue  # Skip intra-zone flows\n",
    "            \n",
    "            # Get the demand for the OD pair\n",
    "            od_demand = demand.get((origin_zone, destination_zone), 0)\n",
    "            if od_demand <= 0:\n",
    "                continue  # Skip if no demand\n",
    "            \n",
    "            # Find the shortest path among all centroid-to-centroid paths\n",
    "            shortest_paths = [\n",
    "                (dijkstra_results[i][0][dest_node], dijkstra_results[i], dest_node)\n",
    "                for i in range(len(dijkstra_results))\n",
    "                for dest_node in destination_nodes\n",
    "                if dest_node in dijkstra_results[i][0]\n",
    "            ]\n",
    "            \n",
    "            if not shortest_paths:\n",
    "                continue  # Skip if no valid path exists\n",
    "            \n",
    "            # Select the shortest path\n",
    "            shortest_paths.sort(key=lambda x: x[0])  # Sort by travel time\n",
    "            min_time, dijkstra_result, destination_node = shortest_paths[0]\n",
    "            path = dijkstra_result[1][destination_node]\n",
    "\n",
    "            # Compute SPTT and store path/EODTT if required\n",
    "            if compute_sptt:\n",
    "                SPTT += min_time * od_demand\n",
    "                spedges[(origin_zone, destination_zone)] = path\n",
    "                EODTT[(origin_zone, destination_zone)] = min_time\n",
    "            \n",
    "            # Update edge flows\n",
    "            for u, v in zip(path[:-1], path[1:]):\n",
    "                x_bar[(u, v)] += od_demand\n",
    "    \n",
    "    return SPTT, x_bar, spedges, EODTT\n"
   ]
  },
  {
   "cell_type": "code",
   "execution_count": 9,
   "metadata": {},
   "outputs": [
    {
     "name": "stdout",
     "output_type": "stream",
     "text": [
      "SPTT:  165000\n",
      "x_bar:  {(10, 11): 0, (12, 13): 3000, (14, 15): 0}\n",
      "spedges:  {(0, 3): [12, 13]}\n",
      "EODTT:  {(0, 3): 55}\n"
     ]
    }
   ],
   "source": [
    "G_AON = network_graph.copy()\n",
    "SPTT, x_bar, spedges, EODTT = AONloading(G_AON, zones2centroid, origin_destination_demand, compute_sptt=True)\n",
    "print('SPTT: ', SPTT)\n",
    "print('x_bar: ', x_bar)\n",
    "print('spedges: ', spedges)\n",
    "print('EODTT: ', EODTT)"
   ]
  },
  {
   "cell_type": "markdown",
   "metadata": {},
   "source": [
    "## Task:\n",
    "Develop the MSA assignment code that evaulates user equilibrium assignment given the SiouxFalls network and demand\n"
   ]
  },
  {
   "cell_type": "markdown",
   "metadata": {},
   "source": [
    "\n",
    "## Work flow to develop MSA\n",
    "Initial run\n",
    "* Run dijkstra\n",
    "* Run AON loading assignment (AON function)\n",
    "* Update network costs/traveltimes\n",
    "* Run Dijkstra\n",
    "* Check relative gap between TSTT and SPTT - Gap is (AON volumes * new costs) / SPTT. SPTT is all demand * min(new costs)\n",
    "\n",
    "Iterative\n",
    "* Run AON again\n",
    "* Calculate MSA volumes/flows\n",
    "* Update network costs/traveltimes \n",
    "* Run dijkstra again\n",
    "* Check relative gap between TSTT and SPTT - Gap is (MSA volumes * new costs) / SPTT. SPTT is all demand * min(new costs)"
   ]
  },
  {
   "cell_type": "code",
   "execution_count": 12,
   "metadata": {},
   "outputs": [],
   "source": [
    "def MSA(graph, zone2centroid, demand, max_iterations=100, convergence_threshold=0.05):\n",
    "    \"\"\"\n",
    "    Perform User Equilibrium (UE) Assignment using the Method of Successive Averages (MSA).\n",
    "\n",
    "    Parameters:\n",
    "        graph (nx.DiGraph): Directed graph representing the network, with 'cost' as edge weights.\n",
    "        zone2centroid (dict): Mapping of zones to lists of centroid nodes within each zone.\n",
    "        demand (dict): OD demand as a dictionary {(origin_zone, destination_zone): demand}.\n",
    "        max_iterations (int): Maximum number of iterations to run.\n",
    "        convergence_threshold (float): Threshold for the relative gap to check convergence.\n",
    "\n",
    "    Returns:\n",
    "        dict: Final edge flows (volumes) for each edge as {(u, v): flow}.\n",
    "        list: Convergence history of relative gaps.\n",
    "    \"\"\"\n",
    "    # Initialize edge flows and cost attributes\n",
    "    for u, v, data in graph.edges(data=True):\n",
    "        data['flow'] = 0  # Initialize edge flows to zero\n",
    "        if 'cost' not in data:\n",
    "            raise ValueError(\"Graph edges must have an initial 'cost' attribute.\")\n",
    "    \n",
    "    relative_gaps = []  # To track convergence\n",
    "\n",
    "    # Step 1: Initial All-or-Nothing (AON) assignment\n",
    "    print(\"Running initial AON assignment...\")\n",
    "    SPTT, x_bar, _, _ = AONloading(graph, zone2centroid, demand, compute_sptt=True)\n",
    "\n",
    "    for iteration in range(1, max_iterations + 1):\n",
    "        print(f\"Iteration {iteration}...\")\n",
    "\n",
    "        # Update flows using MSA: x = x + (1 / iteration) * (x_bar - x)\n",
    "        for (u, v) in graph.edges():\n",
    "            graph[u][v]['flow'] = (\n",
    "                graph[u][v]['flow'] + (1 / iteration) * (x_bar.get((u, v), 0) - graph[u][v]['flow'])\n",
    "            )\n",
    "\n",
    "        # Update travel times/costs on the network based on new flows\n",
    "        update_edge_costs(graph)\n",
    "\n",
    "        # Step 2: Run shortest path (Dijkstra's algorithm) and AON loading with updated costs\n",
    "        SPTT, x_bar, _, _ = AONloading(graph, zone2centroid, demand, compute_sptt=True)\n",
    "        # Step 3: Compute the relative gap\n",
    "        TSTT = sum(graph[u][v]['flow'] * graph[u][v]['cost'] for u, v in graph.edges())\n",
    "\n",
    "        relative_gap = abs(TSTT - SPTT) / SPTT\n",
    "        relative_gaps.append(relative_gap)\n",
    "        \n",
    "        print(f\"Iteration {iteration}: Relative Gap = {relative_gap:.6f} TSTT = {TSTT}\")\n",
    "\n",
    "        # Check for convergence (relative gap < 0.05)\n",
    "        if relative_gap < convergence_threshold:\n",
    "            print(\"Convergence achieved!\")\n",
    "            break\n",
    "\n",
    "    # Fixed return statement\n",
    "    return {(u, v): graph[u][v]['flow'] for u, v in graph.edges()}, relative_gaps, graph\n",
    "\n",
    "\n",
    "\n",
    "def update_edge_costs(graph):\n",
    "    \"\"\"\n",
    "    Update edge travel times (costs) based on current flows using the BPR (Bureau of Public Roads) function.\n",
    "\n",
    "    Parameters:\n",
    "        graph (nx.DiGraph): Directed graph representing the network.\n",
    "\n",
    "    Notes:\n",
    "        The BPR function is defined as:\n",
    "            cost = free_flow_time * (1 + alpha * (flow / capacity)^beta)\n",
    "    \"\"\"\n",
    "    alpha = 0.5\n",
    "    beta = 4\n",
    "    for u, v, data in graph.edges(data=True):\n",
    "        free_flow_time = data.get('FFT', 1)\n",
    "        capacity = data.get('capacity', 1)\n",
    "        flow = data['flow']\n",
    "        data['cost'] = free_flow_time * (1 + alpha * (flow / capacity) ** beta)\n"
   ]
  },
  {
   "cell_type": "code",
   "execution_count": 11,
   "metadata": {},
   "outputs": [
    {
     "name": "stdout",
     "output_type": "stream",
     "text": [
      "Running initial AON assignment...\n",
      "Iteration 1...\n",
      "Iteration 1: Relative Gap = 286.375000 TSTT = 51727500.0\n",
      "Iteration 2...\n",
      "Iteration 2: Relative Gap = 6.450521 TSTT = 2011640.625\n",
      "Iteration 3...\n",
      "Iteration 3: Relative Gap = 0.666681 TSTT = 450003.8580246914\n",
      "Iteration 4...\n",
      "Iteration 4: Relative Gap = 0.751511 TSTT = 477583.92333984375\n",
      "Iteration 5...\n",
      "Iteration 5: Relative Gap = 0.257164 TSTT = 311148.0\n",
      "Iteration 6...\n",
      "Iteration 6: Relative Gap = 0.666681 TSTT = 450003.8580246914\n",
      "Iteration 7...\n",
      "Iteration 7: Relative Gap = 0.479867 TSTT = 406303.92098530376\n",
      "Iteration 8...\n",
      "Iteration 8: Relative Gap = 0.126864 TSTT = 319483.1943511963\n",
      "Iteration 9...\n",
      "Iteration 9: Relative Gap = 0.060968 TSTT = 286461.4134024285\n",
      "Iteration 10...\n",
      "Iteration 10: Relative Gap = 0.257164 TSTT = 311148.0\n",
      "Iteration 11...\n",
      "Iteration 11: Relative Gap = 0.195719 TSTT = 337132.8492216752\n",
      "Iteration 12...\n",
      "Iteration 12: Relative Gap = 0.121063 TSTT = 302687.0727539063\n",
      "Iteration 13...\n",
      "Iteration 13: Relative Gap = 0.094938 TSTT = 312008.6419283423\n",
      "Iteration 14...\n",
      "Iteration 14: Relative Gap = 0.062744 TSTT = 290893.6520125543\n",
      "Iteration 15...\n",
      "Iteration 15: Relative Gap = 0.179738 TSTT = 318529.2641975309\n",
      "Iteration 16...\n",
      "Iteration 16: Relative Gap = 0.126864 TSTT = 319483.1943511963\n",
      "Iteration 17...\n",
      "Iteration 17: Relative Gap = 0.031361 TSTT = 298730.64967986214\n",
      "Convergence achieved!\n",
      "Final Edge Flows: {(10, 11): 1058.8235294117646, (12, 13): 705.8823529411765, (14, 15): 1235.2941176470588}\n",
      "Relative Gaps: [286.375, 6.450520833333333, 0.6666809556470052, 0.7515109391998066, 0.25716363636363637, 0.6666809556470052, 0.47986698263167654, 0.12686425736075893, 0.060968197786772226, 0.25716363636363637, 0.1957185498784034, 0.12106323242187497, 0.09493753645646134, 0.06274420637303811, 0.17973801554641058, 0.12686425736075893, 0.03136125955320999]\n"
     ]
    }
   ],
   "source": [
    "G_AON = network_graph.copy()\n",
    "final_flows, gaps, Assigned_graph = MSA(G_AON, zones2centroid, origin_destination_demand)\n",
    "\n",
    "print(\"Final Edge Flows:\", final_flows)\n",
    "print(\"Relative Gaps:\", gaps)"
   ]
  },
  {
   "cell_type": "code",
   "execution_count": null,
   "metadata": {},
   "outputs": [],
   "source": []
  }
 ],
 "metadata": {
  "kernelspec": {
   "display_name": "Exam_TNOED",
   "language": "python",
   "name": "python3"
  },
  "language_info": {
   "codemirror_mode": {
    "name": "ipython",
    "version": 3
   },
   "file_extension": ".py",
   "mimetype": "text/x-python",
   "name": "python",
   "nbconvert_exporter": "python",
   "pygments_lexer": "ipython3",
   "version": "3.10.16"
  }
 },
 "nbformat": 4,
 "nbformat_minor": 4
}
